{
 "cells": [
  {
   "cell_type": "markdown",
   "id": "47a39a75",
   "metadata": {},
   "source": [
    "# Introduction to Probabilistic Methods Exercises\n",
    "\n",
    "**2025 Introduction to Quantiative Methods in Finance**\n",
    "\n",
    "**The Erdös Institute**\n",
    "\n",
    "\n",
    "These are exercises for practice, not to be submitted."
   ]
  },
  {
   "cell_type": "markdown",
   "id": "5b51a791",
   "metadata": {},
   "source": [
    "## Exercise 1 ## \n",
    "\n",
    "Design and code a probabilistic method to estimate $\\pi\\sim 3.14$."
   ]
  },
  {
   "cell_type": "code",
   "execution_count": 1,
   "id": "71f23e93",
   "metadata": {},
   "outputs": [],
   "source": [
    "import numpy as np\n",
    "from math import factorial"
   ]
  },
  {
   "cell_type": "code",
   "execution_count": 40,
   "id": "b6b4bd0e",
   "metadata": {},
   "outputs": [
    {
     "name": "stdout",
     "output_type": "stream",
     "text": [
      "The estimated value of pi using Monte-Carlo Method is 3.1684\n"
     ]
    }
   ],
   "source": [
    "# get N random points in the square [-1,1] x [-1,1] and check how many of them are in the circle centered at (0,0) with radius 1\n",
    "# then comparison the areas yields the estimate of pi to be the number of points in the circle divided by N times 4 \n",
    "\n",
    "N = 10000\n",
    "\n",
    "square = [2*np.random.rand(2) - 1 for i in range(N)]\n",
    "circle = [point for point in square if (point[0])**2+(point[1])**2 < 1]\n",
    "\n",
    "estimated_pi = len(circle)/len(square)*4\n",
    "\n",
    "print(f\"The estimated value of pi using Monte-Carlo Method is {estimated_pi}\")"
   ]
  },
  {
   "cell_type": "markdown",
   "id": "5951397b",
   "metadata": {},
   "source": [
    "## Exercise 2 ## \n",
    "\n",
    "###  Rules of Craps (Vegas Casino Style)\n",
    "\n",
    " \n",
    "The basic rules are outlined below and a several common betting options are given.\n",
    "\n",
    "### 1. The Come-Out Roll\n",
    " - The game begins with the shooter making a \"come-out\" roll using two six-sided dice.\n",
    " - If the come-out roll is a **7 or 11**, the pass line bet wins (called a \"natural\").\n",
    " - If the come-out roll is **2, 3, or 12**, the pass line bet loses (called \"craps\").\n",
    " - If the come-out roll is **4, 5, 6, 8, 9, or 10**, that number becomes the **point**.\n",
    "\n",
    "### 2. Point Phase\n",
    " - Once the point is established, the shooter continues rolling.\n",
    " - The goal is to roll the **point number again before rolling a 7**.\n",
    "     - If the shooter rolls the point again, pass line bets win.\n",
    "     - If the shooter rolls a **7 before the point**, pass line bets lose (called \"seven out\").\n",
    "\n",
    "### 3. Some Betting Options\n",
    " - **Pass Line Bet**: Wins on a natural (7 or 11), loses on craps (2, 3, 12), wins if point is hit before a 7.\n",
    " - **Don't Pass Bet**: Opposite of pass line. Wins on craps (2, 3), ties on 12, loses on 7 or 11.\n",
    "\n",
    " \n",
    " \n",
    " ### Part 1\n",
    " Determine the odds of winning at craps for the Pass Line Bet and Don't Pass Bet.\n",
    " \n",
    " ### Part 2\n",
    " Use probabilistic/Monte-Carlo methods for estimating the odds of winning the Pass Line and Don't Pass Line Bets."
   ]
  },
  {
   "cell_type": "code",
   "execution_count": 205,
   "id": "093f1a93-bec0-41d4-86e0-31b26c75ef8c",
   "metadata": {},
   "outputs": [],
   "source": [
    "values = range(2,13)\n",
    "probabilities = np.array([1,2,3,4,5,6,5,4,3,2,1]) / 36"
   ]
  },
  {
   "cell_type": "markdown",
   "id": "c28fec9f-35d7-4044-b12b-f0653f4b0f4f",
   "metadata": {},
   "source": [
    "The odds of winning at craps for the Pass Line Bet (PLB) is computed as follows:\n",
    "\n",
    "\\begin{align}\n",
    "P(\\text{Winning for PLB}) & = P(\\textit{first roll} = 7 \\text{ or } 11) + P(roll = i  \\text{ before } roll = 7 | \\textit{first roll} = 4,5,6,8,9 \\text{ or } 10) \\\\\n",
    "                            & = \\frac{6}{36} + \\frac{2}{36} + \\sum_{4 \\leq i \\leq 10, i \\neq 7} P(\\textit{first roll} = i)*P(roll = i | roll = i \\text{ or } roll = 7) \\\\\n",
    "                            & = \\frac{2}{9} + \\sum_{4 \\leq i \\leq 10, i \\neq 7} P(roll = i )* \\frac{P(roll=i)}{P(roll = i \\text{ or } roll =7)} \\\\\n",
    "                            & = \\frac{2}{9} + \\sum_{4 \\leq i \\leq 10, i \\neq 7} \\frac{P(roll=i)^2}{P(roll = i) + P(roll =7)} \\\\\n",
    "                            & = \\frac{2}{9} + \\frac{2}{36}(\\frac{3^2}{3+6} + \\frac{4^2}{4+6} + \\frac{5^2}{5+6} ) \\\\\n",
    "                            & = 0.49\\overline{29}\n",
    "\\end{align}\n",
    "\n",
    "\n"
   ]
  },
  {
   "cell_type": "code",
   "execution_count": 216,
   "id": "7453723e-7496-4cdd-8e4b-4fcae9dd3d9e",
   "metadata": {},
   "outputs": [
    {
     "name": "stdout",
     "output_type": "stream",
     "text": [
      "The probability of winning at craps for the Pass Line Bet is 0.4929292929292929\n"
     ]
    }
   ],
   "source": [
    "true_pass_line_prob = 0\n",
    "\n",
    "for i in range(2,13):\n",
    "    if i in (7,11):\n",
    "        true_pass_line_prob += probabilities[i-2]\n",
    "    if i in (4,5,6,8,9,10):\n",
    "        true_pass_line_prob += (probabilities[i-2]**2)/(probabilities[i-2] + probabilities[5])\n",
    "\n",
    "print(f\"The probability of winning at craps for the Pass Line Bet is {true_pass_line_prob}\")"
   ]
  },
  {
   "cell_type": "markdown",
   "id": "476fc5b2-a4c9-42a0-91d1-7df618ae49d8",
   "metadata": {},
   "source": [
    "The odds of winning at craps for the Don't Pass Line Bet (DPL) is computed as follows:\n",
    "\n",
    "\\begin{align}\n",
    "P(\\text{Winning for DPL}) & = P(\\textit{first roll} = 2,3 \\text{ or } 12) + P(roll = 7  \\text{ before } roll = \\textit{first roll} | \\textit{first roll} = 4,5,6,8,9 \\text{ or } 10) \\\\\n",
    "                            & = \\frac{2}{36} + \\frac{2}{36} + \\sum_{4 \\leq i \\leq 10, i \\neq 7} P(\\textit{first roll} = i)*P(roll = 7 | roll = i \\text{ or } roll = 7) \\\\\n",
    "                            & = \\frac{1}{9} + \\sum_{4 \\leq i \\leq 10, i \\neq 7} P(roll = i )* \\frac{P(roll=7)}{P(roll = i \\text{ or } roll =7)} \\\\\n",
    "                            & = \\frac{1}{9} + \\sum_{4 \\leq i \\leq 10, i \\neq 7} \\frac{P(roll=i)*P(roll=7)}{P(roll = i) + P(roll =7)} \\\\\n",
    "                            & = \\frac{1}{9} + \\frac{2}{36}(\\frac{3*6}{3+6} + \\frac{4*6}{4+6} + \\frac{5*6}{5+6} ) \\\\\n",
    "                            & = 0.50\\overline{70}\n",
    "\\end{align}"
   ]
  },
  {
   "cell_type": "code",
   "execution_count": 221,
   "id": "2532c8d0-f18b-49eb-bb7e-3bc60265ede7",
   "metadata": {},
   "outputs": [
    {
     "name": "stdout",
     "output_type": "stream",
     "text": [
      "The probability of winning at craps for the Pass Line Bet is 0.507070707070707\n"
     ]
    }
   ],
   "source": [
    "true_dpl_prob = 0\n",
    "\n",
    "for i in range(2,13):\n",
    "    if i in (2,3,12):\n",
    "        true_dpl_prob += probabilities[i-2]\n",
    "    if i in (4,5,6,8,9,10):\n",
    "        true_dpl_prob += (probabilities[i-2]*probabilities[5])/(probabilities[i-2] + probabilities[5])\n",
    "\n",
    "print(f\"The probability of winning at craps for the Pass Line Bet is {true_dpl_prob}\")"
   ]
  },
  {
   "cell_type": "code",
   "execution_count": 206,
   "id": "283bb134-f101-4688-91a7-ce8046461c36",
   "metadata": {},
   "outputs": [],
   "source": [
    "def pass_line_bet():\n",
    "    first_roll = np.random.choice(values, p = probabilities)\n",
    "    if first_roll in (7,11):\n",
    "        return True\n",
    "    if first_roll in (2,3,12):\n",
    "        return False\n",
    "    \n",
    "    point = first_roll\n",
    "    current_draw = np.random.choice(values, p=probabilities)\n",
    "\n",
    "    while current_draw not in (point,7):\n",
    "        current_draw = np.random.choice(values, p=probabilities)\n",
    "\n",
    "    if current_draw == point:\n",
    "        return True\n",
    "    else: return False"
   ]
  },
  {
   "cell_type": "code",
   "execution_count": 219,
   "id": "f5c66dbd-592b-4604-8ac0-fe390e573225",
   "metadata": {},
   "outputs": [
    {
     "name": "stdout",
     "output_type": "stream",
     "text": [
      "The estimated probability of winning Pass Line Bet is 0.491\n"
     ]
    }
   ],
   "source": [
    "M = 100\n",
    "win_probabilities = np.zeros(M)\n",
    "\n",
    "for i in range(M):\n",
    "    N = 1000\n",
    "    win = 0\n",
    "\n",
    "    for j in range(N):\n",
    "        if pass_line_bet():\n",
    "            win +=1\n",
    "\n",
    "    win_probabilities[i] = win/N\n",
    "\n",
    "print(f\"The estimated probability of winning Pass Line Bet is {win_probabilities.mean():.3f}\")"
   ]
  },
  {
   "cell_type": "code",
   "execution_count": 114,
   "id": "80cc0c5b-77ed-42b2-a483-763bc5f64a51",
   "metadata": {},
   "outputs": [],
   "source": [
    "def dont_pass_bet():\n",
    "    first_roll = np.random.choice(values, p = probabilities)\n",
    "    if first_roll in (7,11):\n",
    "        return False\n",
    "    if first_roll in (2,3,12):\n",
    "        return True\n",
    "\n",
    "    point = first_roll\n",
    "    current_draw = np.random.choice(values, p=probabilities)\n",
    "\n",
    "    while current_draw not in (point,7):\n",
    "        current_draw = np.random.choice(values, p=probabilities)\n",
    "\n",
    "    if current_draw == point:\n",
    "        return False\n",
    "    else: return True    "
   ]
  },
  {
   "cell_type": "code",
   "execution_count": 115,
   "id": "e0d34a8e-6c68-4aec-8f6f-a1eabd198d4a",
   "metadata": {},
   "outputs": [
    {
     "name": "stdout",
     "output_type": "stream",
     "text": [
      "The estimated probability of winning Don't Pass Bet is 0.509\n"
     ]
    }
   ],
   "source": [
    "M = 100\n",
    "win_probabilities = np.zeros(M)\n",
    "\n",
    "for i in range(M):\n",
    "    N = 1000\n",
    "    win = 0\n",
    "\n",
    "    for j in range(N):\n",
    "        if dont_pass_bet():\n",
    "            win +=1\n",
    "\n",
    "    win_probabilities[i] = win/N\n",
    "\n",
    "print(f\"The estimated probability of winning Don't Pass Bet is {win_probabilities.mean():.3f}\")"
   ]
  },
  {
   "cell_type": "markdown",
   "id": "8bc1f363",
   "metadata": {},
   "source": [
    "## Exercise 3 ##\n",
    "\n",
    "Ten cards labeled 1 through 10 are shuffled. What is the probability that one of the ten cards was shuffled to its original location?\n",
    "\n",
    "Find the true expectation and try using a probabilistic method to estimate the answer."
   ]
  },
  {
   "cell_type": "markdown",
   "id": "aa375ffe-1765-4671-9d31-dcf90b88aba2",
   "metadata": {},
   "source": [
    "**Solution**\n",
    "\n",
    "The true probability is found as follows:\n",
    "\n",
    "For $1 \\leq k \\leq n$, let $S_k$ be the number of permutations of $n$ cards such that $k^{th}$ card is $k$. Then, we want to find $|S_1 \\cup \\dots \\cup S_n|$.\n",
    "\n",
    "\\begin{align}\n",
    "|S_1 \\cup \\dots \\cup S_n| & = \\sum_i |S_i| - \\sum_{i<j} |S_i \\cap S_j| + \\sum_{i,j,k} |S_i \\cap S_j \\cap S_k| \\dots + (-1)^{n+1} |S_1 \\cap \\dots S_n| \\\\\n",
    "                     & = {n\\choose 1}(n-1)! - {n\\choose 2}(n-2)! + {n\\choose 3}(n-3)! \\dots + (-1)^{n+1}{n\\choose n}(n-n)! \\\\\n",
    "                     & = \\sum_{i=1}^n (-1)^{i+1}{n\\choose i}(n-i)! \\\\\n",
    "                     & = n! \\sum_{i=1}^n \\frac{(-1)^{i+1}}{i!}.\n",
    "\\end{align}\n",
    "\n",
    "Finally, we find the true probability that one of the $n$ cards is shuffled to its original locations to be\n",
    "$$ \\sum_{i=1}^n \\frac{(-1)^{i+1}}{i!}. $$\n"
   ]
  },
  {
   "cell_type": "code",
   "execution_count": 42,
   "id": "7bccc689-19d5-4df4-8a20-b0c15be4d579",
   "metadata": {},
   "outputs": [
    {
     "name": "stdout",
     "output_type": "stream",
     "text": [
      "The true probability of one of the 10 cards is shuffled to its original location is 0.6321\n"
     ]
    }
   ],
   "source": [
    "def true_probability(n):\n",
    "    sum = 0\n",
    "    for i in range(1,n+1):\n",
    "        sum += (-1)**(i+1)/factorial(i)\n",
    "    return sum\n",
    "\n",
    "n = 10\n",
    "print(f\"The true probability of one of the {n} cards is shuffled to its original location is {true_probability(n):.4f}\")"
   ]
  },
  {
   "cell_type": "markdown",
   "id": "b7b50f06-554d-4962-a34f-c3bac13228ae",
   "metadata": {},
   "source": [
    "Recall\n",
    "\n",
    "$$ e^x = \\sum_{i=0}^\\infty \\frac{x^i}{i!}$$\n",
    "\n",
    "Then, $$ \\sum_{i=1}^n \\frac{(-1)^{i+1}}{i!} \\sim 1 - \\frac{1}{e}$$ "
   ]
  },
  {
   "cell_type": "code",
   "execution_count": 196,
   "id": "d56b373e-d335-4ce1-b564-fdc16ff28b5a",
   "metadata": {},
   "outputs": [
    {
     "name": "stdout",
     "output_type": "stream",
     "text": [
      "The true value of probability of one of the 10 cards is shuffled to its original location is 0.6321\n"
     ]
    }
   ],
   "source": [
    "print(f\"The true value of probability of one of the {n} cards is shuffled to its original location is {1 - np.exp(-1):.4f}\")"
   ]
  },
  {
   "cell_type": "code",
   "execution_count": 197,
   "id": "44dc03c3-2386-476c-8a02-119f048a601e",
   "metadata": {},
   "outputs": [],
   "source": [
    "# Function that checks if a given permutation has a fixed value\n",
    "\n",
    "def check_one_card_fixed(arr):\n",
    "    for i in range(len(arr)):\n",
    "        if arr[i] == i+1:\n",
    "            return True\n",
    "    return False"
   ]
  },
  {
   "cell_type": "code",
   "execution_count": 48,
   "id": "0247435a-bc61-4ddf-a01a-dd189afa2bdc",
   "metadata": {},
   "outputs": [
    {
     "name": "stdout",
     "output_type": "stream",
     "text": [
      "The estimated probability of one of the 10 cards is shuffled to its original location is 0.6338\n"
     ]
    }
   ],
   "source": [
    "# Create N many shuffles of [1, 10] and count the number of shuffles with one card shuffled to its original location \n",
    "# using the function check_one_card_fixed above. Then the estimated probability is the number of such shuffles divided by N.\n",
    "\n",
    "N = 100000 # number of trials\n",
    "\n",
    "count = 0\n",
    "\n",
    "for i in range(N):\n",
    "    shuffle = np.arange(1,n+1) # initialize shuffle\n",
    "    np.random.shuffle(shuffle) # shuffle the cards\n",
    "    if check_one_card_fixed(shuffle): # check if one of the cards is shuffled to its original location\n",
    "        count +=1\n",
    "\n",
    "print(f\"The estimated probability of one of the {n} cards is shuffled to its original location is {count/N:.4f}\")"
   ]
  },
  {
   "cell_type": "markdown",
   "id": "9a25d6ed",
   "metadata": {},
   "source": [
    "## Exercise 4\n",
    "\n",
    "You approach two slot machines. Each machine costs $\\$.050$ to play and pays out $\\$1$ for a win. You do not know the exact probability of winning on either machine, but you are told that **one has a 2/5 chance of winning**, and the **other has a 3/5 chance of winning**. You do not know which machine has which probability.\n",
    "\n",
    "Your goal is to use probabilistic methods to compare two strategies over a total of 100 plays, to see which strategy is more profitable on average. A more profitable strategy is one that tends to allocate more plays to the machine with the higher payout probability.\n",
    "\n",
    "### Strategies to Simulate\n",
    "\n",
    "1. **Loss-Switch Strategy:**  \n",
    "   Select a slot machine at random. Play on that machine until you lose, then switch to the other machine. Repeat this process for 100 plays.\n",
    "\n",
    "2. **Exploration-Exploitation Strategy:**  \n",
    "   Start by playing each machine 10 times. Estimate the win rate for each machine based on these initial plays. Then:\n",
    "   - Continue playing the machine with the higher observed win rate.\n",
    "   - After each play, update the estimated win rate.\n",
    "   - If the other machine’s estimated win rate becomes higher, switch to it.\n",
    "   - Repeat until 100 total plays have been made.\n",
    "\n",
    "---\n",
    "\n",
    "**Note:**  \n",
    "While this is a simplified, hypothetical scenario, it mirrors real-world decision-making under uncertainty. For instance, in finance, a trader might have multiple strategies available for a given asset. The decision of which strategy to follow at a given time can be based on adaptive rules informed by past performance, similar in spirit to the strategies explored here."
   ]
  },
  {
   "cell_type": "code",
   "execution_count": 189,
   "id": "b4c40fef-9cfa-45c4-a1f9-a155021993a3",
   "metadata": {},
   "outputs": [],
   "source": [
    "# Probability distribution\n",
    "\n",
    "values = np.array(['win','lose'])\n",
    "probabilities = [np.array([2,3]) / 5, np.array([3,2]) / 5]\n",
    "\n",
    "switch_machine = {0:1, 1:0}\n",
    "\n",
    "def get_rates(counts,num_of_plays):\n",
    "    n = len(counts)\n",
    "    rates = [round(counts[i]/num_of_plays[i],2) for i in range(n)]\n",
    "\n",
    "    return np.array(rates)"
   ]
  },
  {
   "cell_type": "code",
   "execution_count": 200,
   "id": "42d8419e-94bc-4698-a1ad-14b9807553cf",
   "metadata": {},
   "outputs": [],
   "source": [
    "def loss_switch():\n",
    "    i = 100\n",
    "    win_counts = [0,0]\n",
    "    number_of_plays = [0,0]\n",
    "    machine = np.random.randint(2)\n",
    "    while i > 0:\n",
    "        play = np.random.choice(values, p = probabilities[machine])\n",
    "        number_of_plays[machine] += 1\n",
    "        i -= 1\n",
    "        if play == 'win':\n",
    "            win_counts[machine] += 1\n",
    "        if play == 'lose':\n",
    "            machine = switch_machine[machine]\n",
    "\n",
    "    win_rates = get_rates(win_counts, number_of_plays)\n",
    "    profit = sum(win_counts) - 0.05*100\n",
    "    return profit\n",
    "\n",
    "def exploration_exploitation():\n",
    "    win_counts = [0,0]\n",
    "    number_of_plays = [0,0]\n",
    "    \n",
    "    for machine in range(2):\n",
    "        for i in range(10):\n",
    "            play = np.random.choice(values, p = probabilities[machine])\n",
    "            number_of_plays[machine] += 1\n",
    "            if play == 'win':\n",
    "                win_counts[machine] += 1\n",
    "\n",
    "    win_rates = get_rates(win_counts, number_of_plays)\n",
    "\n",
    "    machine = np.argmax(win_rates)\n",
    "\n",
    "    i = 80\n",
    "\n",
    "    while i > 0:\n",
    "        play = np.random.choice(values, p=probabilities[machine])\n",
    "        i -= 1\n",
    "        number_of_plays[machine] += 1\n",
    "        if play == 'win':\n",
    "            win_counts[machine] += 1\n",
    "\n",
    "        win_rates = get_rates(win_counts, number_of_plays)\n",
    "\n",
    "        machine = np.argmax(win_rates)\n",
    "\n",
    "    profit = sum(win_counts) - 0.05*100\n",
    "    \n",
    "    return profit  "
   ]
  },
  {
   "cell_type": "code",
   "execution_count": 192,
   "id": "6291d267-f9ad-4bcb-a546-b3e2c823eb90",
   "metadata": {},
   "outputs": [
    {
     "name": "stdout",
     "output_type": "stream",
     "text": [
      "The average estimated profit of playing the game with loss-switch strategy is 46.62\n",
      "The average estimated profit of playing the game with exploration-exploitation strategy is 51.74\n"
     ]
    }
   ],
   "source": [
    "# Play the game following both strategies N times and take the average profits\n",
    "\n",
    "N = 100\n",
    "\n",
    "profit_loss_switch = np.zeros(N)\n",
    "profit_exp = np.zeros(N)\n",
    "\n",
    "for i in range(N):\n",
    "    profit_loss_switch[i] += loss_switch()\n",
    "    profit_exp[i] += exploration_exploitation()\n",
    "\n",
    "print(f\"The average estimated profit of playing the game with loss-switch strategy is {profit_loss_switch.mean():.2f}\")    \n",
    "print(f\"The average estimated profit of playing the game with exploration-exploitation strategy is {profit_exp.mean():.2f}\")    "
   ]
  }
 ],
 "metadata": {
  "kernelspec": {
   "display_name": "Python 3 (ipykernel)",
   "language": "python",
   "name": "python3"
  },
  "language_info": {
   "codemirror_mode": {
    "name": "ipython",
    "version": 3
   },
   "file_extension": ".py",
   "mimetype": "text/x-python",
   "name": "python",
   "nbconvert_exporter": "python",
   "pygments_lexer": "ipython3",
   "version": "3.11.1"
  }
 },
 "nbformat": 4,
 "nbformat_minor": 5
}
